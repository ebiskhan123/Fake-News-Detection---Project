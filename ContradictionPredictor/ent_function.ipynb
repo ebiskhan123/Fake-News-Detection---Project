{
 "cells": [
  {
   "cell_type": "code",
   "execution_count": 14,
   "metadata": {},
   "outputs": [],
   "source": [
    "from time import time\n",
    "import pandas as pd\n",
    "import numpy as np\n",
    "from gensim.models import KeyedVectors\n",
    "import re\n",
    "from nltk.corpus import stopwords\n",
    "from sklearn.model_selection import train_test_split\n",
    "import matplotlib.pyplot as plt\n",
    "import seaborn as sns\n",
    "from sklearn.metrics import accuracy_score\n",
    "\n",
    "import itertools\n",
    "import datetime\n",
    "\n",
    "from keras.preprocessing.sequence import pad_sequences\n",
    "from keras.models import Model,Sequential\n",
    "from keras.layers import Input, Embedding, LSTM, Merge, Dense,Concatenate,merge, multiply\n",
    "import keras.backend as K\n",
    "from keras.optimizers import Adadelta\n",
    "from keras.callbacks import ModelCheckpoint, EarlyStopping\n",
    "import keras\n",
    "import pickle\n",
    "from keras.models import model_from_json\n",
    "from keras.models import Model,Sequential\n",
    "from keras.layers import Input, Embedding, LSTM, Merge, Dense,Concatenate,merge, multiply\n",
    "import keras.backend as K\n",
    "from keras.optimizers import Adadelta\n",
    "from keras.callbacks import ModelCheckpoint, EarlyStopping\n",
    "import keras\n",
    "import pickle\n",
    "from keras.models import model_from_json\n",
    "from keras.models import Model,Sequential\n",
    "from keras.layers import Input, Embedding, LSTM, Merge,merge,Dense,Dropout\n",
    "from keras.optimizers import Adadelta,Adam\n",
    "\n"
   ]
  },
  {
   "cell_type": "code",
   "execution_count": 3,
   "metadata": {
    "collapsed": true
   },
   "outputs": [],
   "source": [
    "import tensorflow as tf\n",
    "from tensorflow import Graph"
   ]
  },
  {
   "cell_type": "code",
   "execution_count": 4,
   "metadata": {
    "collapsed": true
   },
   "outputs": [],
   "source": [
    "malstm = \"./malstm/malstm.json\"\n",
    "malstm_weights = \"./malstm/malstm_weights.h5\"\n",
    "vocab = \"./sick_vocab.pickle\"\n",
    "contra = \"./final/contra.json\"\n",
    "contra_weights = \"./final/contra_weights.h5\""
   ]
  },
  {
   "cell_type": "code",
   "execution_count": 5,
   "metadata": {},
   "outputs": [
    {
     "ename": "OSError",
     "evalue": "Unable to open file (unable to open file: name = 'model.h5', errno = 2, error message = 'No such file or directory', flags = 0, o_flags = 0)",
     "output_type": "error",
     "traceback": [
      "\u001b[0;31m---------------------------------------------------------------------------\u001b[0m",
      "\u001b[0;31mOSError\u001b[0m                                   Traceback (most recent call last)",
      "\u001b[0;32m<ipython-input-5-7059c8e33a95>\u001b[0m in \u001b[0;36m<module>\u001b[0;34m()\u001b[0m\n\u001b[1;32m      5\u001b[0m \u001b[0mloaded_model\u001b[0m \u001b[0;34m=\u001b[0m \u001b[0mmodel_from_json\u001b[0m\u001b[0;34m(\u001b[0m\u001b[0mloaded_model_json\u001b[0m\u001b[0;34m)\u001b[0m\u001b[0;34m\u001b[0m\u001b[0m\n\u001b[1;32m      6\u001b[0m \u001b[0;31m# load weights into new model\u001b[0m\u001b[0;34m\u001b[0m\u001b[0;34m\u001b[0m\u001b[0m\n\u001b[0;32m----> 7\u001b[0;31m \u001b[0mloaded_model\u001b[0m\u001b[0;34m.\u001b[0m\u001b[0mload_weights\u001b[0m\u001b[0;34m(\u001b[0m\u001b[0;34m\"model.h5\"\u001b[0m\u001b[0;34m)\u001b[0m\u001b[0;34m\u001b[0m\u001b[0m\n\u001b[0m\u001b[1;32m      8\u001b[0m \u001b[0;34m\u001b[0m\u001b[0m\n\u001b[1;32m      9\u001b[0m \u001b[0mprint\u001b[0m\u001b[0;34m(\u001b[0m\u001b[0;34m\"Loaded model from disk\"\u001b[0m\u001b[0;34m)\u001b[0m\u001b[0;34m\u001b[0m\u001b[0m\n",
      "\u001b[0;32m/usr/local/lib/python3.6/site-packages/keras/engine/topology.py\u001b[0m in \u001b[0;36mload_weights\u001b[0;34m(self, filepath, by_name)\u001b[0m\n\u001b[1;32m   2614\u001b[0m         \u001b[0;32mif\u001b[0m \u001b[0mh5py\u001b[0m \u001b[0;32mis\u001b[0m \u001b[0;32mNone\u001b[0m\u001b[0;34m:\u001b[0m\u001b[0;34m\u001b[0m\u001b[0m\n\u001b[1;32m   2615\u001b[0m             \u001b[0;32mraise\u001b[0m \u001b[0mImportError\u001b[0m\u001b[0;34m(\u001b[0m\u001b[0;34m'`load_weights` requires h5py.'\u001b[0m\u001b[0;34m)\u001b[0m\u001b[0;34m\u001b[0m\u001b[0m\n\u001b[0;32m-> 2616\u001b[0;31m         \u001b[0mf\u001b[0m \u001b[0;34m=\u001b[0m \u001b[0mh5py\u001b[0m\u001b[0;34m.\u001b[0m\u001b[0mFile\u001b[0m\u001b[0;34m(\u001b[0m\u001b[0mfilepath\u001b[0m\u001b[0;34m,\u001b[0m \u001b[0mmode\u001b[0m\u001b[0;34m=\u001b[0m\u001b[0;34m'r'\u001b[0m\u001b[0;34m)\u001b[0m\u001b[0;34m\u001b[0m\u001b[0m\n\u001b[0m\u001b[1;32m   2617\u001b[0m         \u001b[0;32mif\u001b[0m \u001b[0;34m'layer_names'\u001b[0m \u001b[0;32mnot\u001b[0m \u001b[0;32min\u001b[0m \u001b[0mf\u001b[0m\u001b[0;34m.\u001b[0m\u001b[0mattrs\u001b[0m \u001b[0;32mand\u001b[0m \u001b[0;34m'model_weights'\u001b[0m \u001b[0;32min\u001b[0m \u001b[0mf\u001b[0m\u001b[0;34m:\u001b[0m\u001b[0;34m\u001b[0m\u001b[0m\n\u001b[1;32m   2618\u001b[0m             \u001b[0mf\u001b[0m \u001b[0;34m=\u001b[0m \u001b[0mf\u001b[0m\u001b[0;34m[\u001b[0m\u001b[0;34m'model_weights'\u001b[0m\u001b[0;34m]\u001b[0m\u001b[0;34m\u001b[0m\u001b[0m\n",
      "\u001b[0;32m/usr/local/lib/python3.6/site-packages/h5py/_hl/files.py\u001b[0m in \u001b[0;36m__init__\u001b[0;34m(self, name, mode, driver, libver, userblock_size, swmr, **kwds)\u001b[0m\n\u001b[1;32m    267\u001b[0m             \u001b[0;32mwith\u001b[0m \u001b[0mphil\u001b[0m\u001b[0;34m:\u001b[0m\u001b[0;34m\u001b[0m\u001b[0m\n\u001b[1;32m    268\u001b[0m                 \u001b[0mfapl\u001b[0m \u001b[0;34m=\u001b[0m \u001b[0mmake_fapl\u001b[0m\u001b[0;34m(\u001b[0m\u001b[0mdriver\u001b[0m\u001b[0;34m,\u001b[0m \u001b[0mlibver\u001b[0m\u001b[0;34m,\u001b[0m \u001b[0;34m**\u001b[0m\u001b[0mkwds\u001b[0m\u001b[0;34m)\u001b[0m\u001b[0;34m\u001b[0m\u001b[0m\n\u001b[0;32m--> 269\u001b[0;31m                 \u001b[0mfid\u001b[0m \u001b[0;34m=\u001b[0m \u001b[0mmake_fid\u001b[0m\u001b[0;34m(\u001b[0m\u001b[0mname\u001b[0m\u001b[0;34m,\u001b[0m \u001b[0mmode\u001b[0m\u001b[0;34m,\u001b[0m \u001b[0muserblock_size\u001b[0m\u001b[0;34m,\u001b[0m \u001b[0mfapl\u001b[0m\u001b[0;34m,\u001b[0m \u001b[0mswmr\u001b[0m\u001b[0;34m=\u001b[0m\u001b[0mswmr\u001b[0m\u001b[0;34m)\u001b[0m\u001b[0;34m\u001b[0m\u001b[0m\n\u001b[0m\u001b[1;32m    270\u001b[0m \u001b[0;34m\u001b[0m\u001b[0m\n\u001b[1;32m    271\u001b[0m                 \u001b[0;32mif\u001b[0m \u001b[0mswmr_support\u001b[0m\u001b[0;34m:\u001b[0m\u001b[0;34m\u001b[0m\u001b[0m\n",
      "\u001b[0;32m/usr/local/lib/python3.6/site-packages/h5py/_hl/files.py\u001b[0m in \u001b[0;36mmake_fid\u001b[0;34m(name, mode, userblock_size, fapl, fcpl, swmr)\u001b[0m\n\u001b[1;32m     97\u001b[0m         \u001b[0;32mif\u001b[0m \u001b[0mswmr\u001b[0m \u001b[0;32mand\u001b[0m \u001b[0mswmr_support\u001b[0m\u001b[0;34m:\u001b[0m\u001b[0;34m\u001b[0m\u001b[0m\n\u001b[1;32m     98\u001b[0m             \u001b[0mflags\u001b[0m \u001b[0;34m|=\u001b[0m \u001b[0mh5f\u001b[0m\u001b[0;34m.\u001b[0m\u001b[0mACC_SWMR_READ\u001b[0m\u001b[0;34m\u001b[0m\u001b[0m\n\u001b[0;32m---> 99\u001b[0;31m         \u001b[0mfid\u001b[0m \u001b[0;34m=\u001b[0m \u001b[0mh5f\u001b[0m\u001b[0;34m.\u001b[0m\u001b[0mopen\u001b[0m\u001b[0;34m(\u001b[0m\u001b[0mname\u001b[0m\u001b[0;34m,\u001b[0m \u001b[0mflags\u001b[0m\u001b[0;34m,\u001b[0m \u001b[0mfapl\u001b[0m\u001b[0;34m=\u001b[0m\u001b[0mfapl\u001b[0m\u001b[0;34m)\u001b[0m\u001b[0;34m\u001b[0m\u001b[0m\n\u001b[0m\u001b[1;32m    100\u001b[0m     \u001b[0;32melif\u001b[0m \u001b[0mmode\u001b[0m \u001b[0;34m==\u001b[0m \u001b[0;34m'r+'\u001b[0m\u001b[0;34m:\u001b[0m\u001b[0;34m\u001b[0m\u001b[0m\n\u001b[1;32m    101\u001b[0m         \u001b[0mfid\u001b[0m \u001b[0;34m=\u001b[0m \u001b[0mh5f\u001b[0m\u001b[0;34m.\u001b[0m\u001b[0mopen\u001b[0m\u001b[0;34m(\u001b[0m\u001b[0mname\u001b[0m\u001b[0;34m,\u001b[0m \u001b[0mh5f\u001b[0m\u001b[0;34m.\u001b[0m\u001b[0mACC_RDWR\u001b[0m\u001b[0;34m,\u001b[0m \u001b[0mfapl\u001b[0m\u001b[0;34m=\u001b[0m\u001b[0mfapl\u001b[0m\u001b[0;34m)\u001b[0m\u001b[0;34m\u001b[0m\u001b[0m\n",
      "\u001b[0;32mh5py/_objects.pyx\u001b[0m in \u001b[0;36mh5py._objects.with_phil.wrapper\u001b[0;34m()\u001b[0m\n",
      "\u001b[0;32mh5py/_objects.pyx\u001b[0m in \u001b[0;36mh5py._objects.with_phil.wrapper\u001b[0;34m()\u001b[0m\n",
      "\u001b[0;32mh5py/h5f.pyx\u001b[0m in \u001b[0;36mh5py.h5f.open\u001b[0;34m()\u001b[0m\n",
      "\u001b[0;31mOSError\u001b[0m: Unable to open file (unable to open file: name = 'model.h5', errno = 2, error message = 'No such file or directory', flags = 0, o_flags = 0)"
     ]
    }
   ],
   "source": [
    "# load json and create model\n",
    "json_file = open('./malstm/malstm.json', 'r')\n",
    "loaded_model_json = json_file.read()\n",
    "json_file.close()\n",
    "loaded_model = model_from_json(loaded_model_json)\n",
    "# load weights into new model\n",
    "loaded_model.load_weights(\"model.h5\")\n",
    "\n",
    "print(\"Loaded model from disk\")"
   ]
  },
  {
   "cell_type": "code",
   "execution_count": 6,
   "metadata": {
    "collapsed": true
   },
   "outputs": [],
   "source": [
    "def load_model(model_json, model_weights) : \n",
    "    json_file = open(model_json, 'r')\n",
    "    loaded_model_json = json_file.read()\n",
    "    json_file.close()\n",
    "    loaded_model = model_from_json(loaded_model_json)\n",
    "    loaded_model.load_weights(model_weights)\n",
    "    \n",
    "    return loaded_model\n"
   ]
  },
  {
   "cell_type": "code",
   "execution_count": 7,
   "metadata": {
    "collapsed": true
   },
   "outputs": [],
   "source": [
    "malstm = load_model(malstm, malstm_weights)"
   ]
  },
  {
   "cell_type": "code",
   "execution_count": 124,
   "metadata": {},
   "outputs": [],
   "source": [
    "class MALSTM : \n",
    "    \n",
    "    def __init__(self, model_json, model_weights, vocab) :\n",
    "        \n",
    "        sess = tf.Session()\n",
    "        K.set_session(sess)\n",
    "        json_file = open(model_json, 'r')\n",
    "        loaded_model_json = json_file.read()\n",
    "        json_file.close()\n",
    "        self.model = model_from_json(loaded_model_json)\n",
    "        self.model.load_weights(model_weights)\n",
    "#         self.model.summary()\n",
    "        self.vocab = pickle.load(open(vocab, \"rb\"))\n",
    "\n",
    "    def output(self, A):\n",
    "        \n",
    "        A = self.preprocess(A)                \n",
    "        output = self.model.predict(A)\n",
    "        return output\n",
    "    \n",
    "    def output_all(self, text) : \n",
    "        \n",
    "        result = []\n",
    "        for i in text :  \n",
    "            result.append(self.output(i))\n",
    "            \n",
    "        return result\n",
    "        \n",
    "        \n",
    "    def preprocess(self, text):\n",
    "        word_list = self.text_to_word_list(text)\n",
    "        ind = []\n",
    "        for word in word_list : \n",
    "            if(word in self.vocab) : \n",
    "                ind.append(self.vocab[word])\n",
    "        ind = pad_sequences([ind], maxlen=26)\n",
    "        return ind \n",
    "    \n",
    "    def clear(self) : \n",
    "        K.set_session(None)\n",
    "        del self.model\n",
    "        \n",
    "    def text_to_word_list(self, text):\n",
    "        ''' Pre process and convert texts to a list of words '''\n",
    "        text = str(text)\n",
    "        text = text.lower()\n",
    "\n",
    "        # Clean the text\n",
    "        text = re.sub(r\"[^A-Za-z0-9^,!.\\/'+-=]\", \" \", text)\n",
    "        text = re.sub(r\"what's\", \"what is \", text)\n",
    "        text = re.sub(r\"\\'s\", \" \", text)\n",
    "        text = re.sub(r\"\\'ve\", \" have \", text)\n",
    "        text = re.sub(r\"can't\", \"cannot \", text)\n",
    "        text = re.sub(r\"n't\", \" not \", text)\n",
    "        text = re.sub(r\"i'm\", \"i am \", text)\n",
    "        text = re.sub(r\"\\'re\", \" are \", text)\n",
    "        text = re.sub(r\"\\'d\", \" would \", text)\n",
    "        text = re.sub(r\"\\'ll\", \" will \", text)\n",
    "        text = re.sub(r\",\", \" \", text)\n",
    "        text = re.sub(r\"\\.\", \" \", text)\n",
    "        text = re.sub(r\"!\", \" ! \", text)\n",
    "        text = re.sub(r\"\\/\", \" \", text)\n",
    "        text = re.sub(r\"\\^\", \" ^ \", text)\n",
    "        text = re.sub(r\"\\+\", \" + \", text)\n",
    "        text = re.sub(r\"\\-\", \" - \", text)\n",
    "        text = re.sub(r\"\\=\", \" = \", text)\n",
    "        text = re.sub(r\"'\", \" \", text)\n",
    "        text = re.sub(r\"(\\d+)(k)\", r\"\\g<1>000\", text)\n",
    "        text = re.sub(r\":\", \" : \", text)\n",
    "        text = re.sub(r\" e g \", \" eg \", text)\n",
    "        text = re.sub(r\" b g \", \" bg \", text)\n",
    "        text = re.sub(r\" u s \", \" american \", text)\n",
    "        text = re.sub(r\"\\0s\", \"0\", text)\n",
    "        text = re.sub(r\" 9 11 \", \"911\", text)\n",
    "        text = re.sub(r\"e - mail\", \"email\", text)\n",
    "        text = re.sub(r\"j k\", \"jk\", text)\n",
    "        text = re.sub(r\"\\s{2,}\", \" \", text)\n",
    "\n",
    "        text = text.split()\n",
    "\n",
    "        return text"
   ]
  },
  {
   "cell_type": "code",
   "execution_count": 18,
   "metadata": {},
   "outputs": [
    {
     "data": {
      "text/plain": [
       "'./sick_vocab.pickle'"
      ]
     },
     "execution_count": 18,
     "metadata": {},
     "output_type": "execute_result"
    }
   ],
   "source": [
    "vocab"
   ]
  },
  {
   "cell_type": "code",
   "execution_count": null,
   "metadata": {
    "collapsed": true
   },
   "outputs": [],
   "source": []
  },
  {
   "cell_type": "code",
   "execution_count": 72,
   "metadata": {},
   "outputs": [],
   "source": [
    "a = \"Two young women are sparring in a kickboxing fight\"\n",
    "b = \"Two women are sparring in a kickboxing match\""
   ]
  },
  {
   "cell_type": "code",
   "execution_count": 81,
   "metadata": {},
   "outputs": [],
   "source": [
    "obj = MALSTM(malstm, malstm_weights, vocab)"
   ]
  },
  {
   "cell_type": "code",
   "execution_count": 10,
   "metadata": {
    "collapsed": true
   },
   "outputs": [],
   "source": [
    "obj.clear()"
   ]
  },
  {
   "cell_type": "code",
   "execution_count": 83,
   "metadata": {
    "collapsed": true
   },
   "outputs": [],
   "source": [
    "vocab1 = pickle.load(open(vocab, \"rb\"))"
   ]
  },
  {
   "cell_type": "code",
   "execution_count": 84,
   "metadata": {},
   "outputs": [
    {
     "data": {
      "text/plain": [
       "2"
      ]
     },
     "execution_count": 84,
     "metadata": {},
     "output_type": "execute_result"
    }
   ],
   "source": [
    "vocab1[\"kids\"]"
   ]
  },
  {
   "cell_type": "code",
   "execution_count": 74,
   "metadata": {},
   "outputs": [],
   "source": [
    "A = obj.output(a)\n",
    "B = obj.output(b)"
   ]
  },
  {
   "cell_type": "code",
   "execution_count": 75,
   "metadata": {},
   "outputs": [
    {
     "data": {
      "text/plain": [
       "array([[  2.17306279e-02,  -5.01913950e-04,  -2.13505444e-03,\n",
       "         -1.82000011e-01,  -2.53584921e-01,   2.56872356e-01,\n",
       "          3.09889406e-01,  -1.57066435e-03,  -8.15546140e-04,\n",
       "         -1.57062322e-01,   2.41772115e-01,   4.54705775e-01,\n",
       "          2.78473890e-04,   3.14909779e-02,  -1.07448578e-01,\n",
       "          6.11151084e-02,  -5.07712141e-02,  -7.55723938e-02,\n",
       "          3.16619486e-01,   1.73975408e-01,  -4.20948528e-02,\n",
       "          4.17387782e-04,   1.59952848e-03,  -2.66087125e-03,\n",
       "          1.58760920e-01,  -3.39385390e-01,   1.30262729e-02,\n",
       "          1.10630819e-03,   9.83540118e-02,  -3.54880537e-03,\n",
       "          4.95779179e-02,   9.52103408e-04,  -1.29853627e-02,\n",
       "         -3.74250680e-01,   3.05484772e-01,  -1.66012838e-01,\n",
       "         -1.53492361e-01,  -1.51359558e-01,  -3.96886952e-02,\n",
       "          2.98641175e-02,   1.66826753e-03,   0.00000000e+00,\n",
       "         -1.39712077e-02,   3.08704138e-01,  -9.08505023e-02,\n",
       "          1.00915588e-03,  -1.78259483e-03,   5.66147029e-01,\n",
       "         -1.78513661e-01,   0.00000000e+00]], dtype=float32)"
      ]
     },
     "execution_count": 75,
     "metadata": {},
     "output_type": "execute_result"
    }
   ],
   "source": [
    "A"
   ]
  },
  {
   "cell_type": "code",
   "execution_count": 133,
   "metadata": {
    "collapsed": true
   },
   "outputs": [],
   "source": [
    "class Entailment : \n",
    "    \n",
    "    def __init__(self, ent_json, ent_weights) : \n",
    "        \n",
    "        model2 = Sequential()\n",
    "        model2.add(Dense(200, input_shape=(100,),kernel_initializer='he_normal', activation='relu'))\n",
    "        model2.add(Dropout(0.2))\n",
    "        model2.add(Dense(100, kernel_initializer='he_normal', activation='relu'))\n",
    "        model2.add(Dropout(0.2))\n",
    "        model2.add(Dense(50, kernel_initializer='he_normal', activation='relu'))\n",
    "        model2.add(Dropout(0.2))\n",
    "        model2.add(Dense(3, activation='softmax'))\n",
    "        model2.compile(Adam(lr = 0.001),'categorical_crossentropy', metrics=['accuracy'])\n",
    "        \n",
    "        self.model = model2\n",
    "        self.model.load_weights(ent_weights)\n",
    "        \n",
    "    def clear(self) : \n",
    "        K.set_session(None)   \n",
    "        del self.model\n",
    "    \n",
    "    def predict(self, A, B) : \n",
    "        left_matrix = A\n",
    "        right_matrix = B\n",
    "        diff_features= np.abs(np.subtract(left_matrix, right_matrix))\n",
    "        prod = np.multiply(left_matrix,right_matrix)\n",
    "        extracted_features = np.concatenate([diff_features,prod], axis = 1)\n",
    "        output = self.model.predict(extracted_features)\n",
    "        return np.argmax(output)\n",
    "    \n",
    "    def predict_all(self, listA, listB) : \n",
    "        \n",
    "        result = []\n",
    "        for i in range(len(listA)) : \n",
    "            result.append(self.predict(listA[i], listB[i]))\n",
    "        \n",
    "        return result"
   ]
  },
  {
   "cell_type": "code",
   "execution_count": 16,
   "metadata": {
    "collapsed": true
   },
   "outputs": [],
   "source": [
    "import keras.backend as K"
   ]
  },
  {
   "cell_type": "code",
   "execution_count": 116,
   "metadata": {},
   "outputs": [
    {
     "ename": "AttributeError",
     "evalue": "model",
     "output_type": "error",
     "traceback": [
      "\u001b[0;31m---------------------------------------------------------------------------\u001b[0m",
      "\u001b[0;31mAttributeError\u001b[0m                            Traceback (most recent call last)",
      "\u001b[0;32m<ipython-input-116-b0ac8f4a3d22>\u001b[0m in \u001b[0;36m<module>\u001b[0;34m()\u001b[0m\n\u001b[0;32m----> 1\u001b[0;31m \u001b[0;32mdel\u001b[0m \u001b[0mobj\u001b[0m\u001b[0;34m.\u001b[0m\u001b[0mmodel\u001b[0m\u001b[0;34m\u001b[0m\u001b[0m\n\u001b[0m\u001b[1;32m      2\u001b[0m \u001b[0mK\u001b[0m\u001b[0;34m.\u001b[0m\u001b[0mclear_session\u001b[0m\u001b[0;34m(\u001b[0m\u001b[0;34m)\u001b[0m\u001b[0;34m\u001b[0m\u001b[0m\n",
      "\u001b[0;31mAttributeError\u001b[0m: model"
     ]
    }
   ],
   "source": [
    "del obj.model\n",
    "K.clear_session()"
   ]
  },
  {
   "cell_type": "code",
   "execution_count": 82,
   "metadata": {},
   "outputs": [
    {
     "name": "stdout",
     "output_type": "stream",
     "text": [
      "_________________________________________________________________\n",
      "Layer (type)                 Output Shape              Param #   \n",
      "=================================================================\n",
      "dense_42 (Dense)             (None, 200)               20200     \n",
      "_________________________________________________________________\n",
      "dropout_31 (Dropout)         (None, 200)               0         \n",
      "_________________________________________________________________\n",
      "dense_43 (Dense)             (None, 100)               20100     \n",
      "_________________________________________________________________\n",
      "dropout_32 (Dropout)         (None, 100)               0         \n",
      "_________________________________________________________________\n",
      "dense_44 (Dense)             (None, 50)                5050      \n",
      "_________________________________________________________________\n",
      "dropout_33 (Dropout)         (None, 50)                0         \n",
      "_________________________________________________________________\n",
      "dense_45 (Dense)             (None, 3)                 153       \n",
      "=================================================================\n",
      "Total params: 45,503\n",
      "Trainable params: 45,503\n",
      "Non-trainable params: 0\n",
      "_________________________________________________________________\n"
     ]
    }
   ],
   "source": [
    "e = Entailment(contra, contra_weights)"
   ]
  },
  {
   "cell_type": "code",
   "execution_count": 78,
   "metadata": {},
   "outputs": [
    {
     "data": {
      "text/plain": [
       "2"
      ]
     },
     "execution_count": 78,
     "metadata": {},
     "output_type": "execute_result"
    }
   ],
   "source": [
    "e.predict(A, B)"
   ]
  },
  {
   "cell_type": "code",
   "execution_count": 29,
   "metadata": {
    "collapsed": true
   },
   "outputs": [],
   "source": [
    "K.set_session(a)"
   ]
  },
  {
   "cell_type": "code",
   "execution_count": 16,
   "metadata": {},
   "outputs": [
    {
     "data": {
      "text/plain": [
       "<tensorflow.python.client.session.Session at 0x121d08b00>"
      ]
     },
     "execution_count": 16,
     "metadata": {},
     "output_type": "execute_result"
    }
   ],
   "source": [
    "a"
   ]
  },
  {
   "cell_type": "code",
   "execution_count": null,
   "metadata": {
    "collapsed": true
   },
   "outputs": [],
   "source": []
  },
  {
   "cell_type": "code",
   "execution_count": 17,
   "metadata": {},
   "outputs": [
    {
     "data": {
      "text/plain": [
       "<tensorflow.python.client.session.Session at 0x121d08b00>"
      ]
     },
     "execution_count": 17,
     "metadata": {},
     "output_type": "execute_result"
    }
   ],
   "source": [
    "K.get_session()"
   ]
  },
  {
   "cell_type": "code",
   "execution_count": 63,
   "metadata": {
    "collapsed": true
   },
   "outputs": [],
   "source": [
    "K.clear_session()"
   ]
  },
  {
   "cell_type": "code",
   "execution_count": 30,
   "metadata": {},
   "outputs": [
    {
     "data": {
      "text/plain": [
       "<tensorflow.python.client.session.Session at 0x121d08b00>"
      ]
     },
     "execution_count": 30,
     "metadata": {},
     "output_type": "execute_result"
    }
   ],
   "source": [
    "K.get_session()"
   ]
  },
  {
   "cell_type": "code",
   "execution_count": 31,
   "metadata": {},
   "outputs": [
    {
     "data": {
      "text/plain": [
       "<tensorflow.python.client.session.Session at 0x121d08b00>"
      ]
     },
     "execution_count": 31,
     "metadata": {},
     "output_type": "execute_result"
    }
   ],
   "source": [
    "K.get_session()"
   ]
  },
  {
   "cell_type": "code",
   "execution_count": 32,
   "metadata": {
    "collapsed": true
   },
   "outputs": [],
   "source": [
    "K.set_session(None)"
   ]
  },
  {
   "cell_type": "code",
   "execution_count": 34,
   "metadata": {},
   "outputs": [
    {
     "data": {
      "text/plain": [
       "<tensorflow.python.client.session.Session at 0x121cbb198>"
      ]
     },
     "execution_count": 34,
     "metadata": {},
     "output_type": "execute_result"
    }
   ],
   "source": [
    "K.get_session()"
   ]
  },
  {
   "cell_type": "code",
   "execution_count": 35,
   "metadata": {},
   "outputs": [
    {
     "data": {
      "text/plain": [
       "<tensorflow.python.client.session.Session at 0x121d08b00>"
      ]
     },
     "execution_count": 35,
     "metadata": {},
     "output_type": "execute_result"
    }
   ],
   "source": [
    "a"
   ]
  },
  {
   "cell_type": "code",
   "execution_count": 41,
   "metadata": {
    "collapsed": true
   },
   "outputs": [],
   "source": [
    "K.set_session(a)"
   ]
  },
  {
   "cell_type": "code",
   "execution_count": 42,
   "metadata": {},
   "outputs": [
    {
     "data": {
      "text/plain": [
       "<tensorflow.python.client.session.Session at 0x121d08b00>"
      ]
     },
     "execution_count": 42,
     "metadata": {},
     "output_type": "execute_result"
    }
   ],
   "source": [
    "K.get_session()"
   ]
  },
  {
   "cell_type": "code",
   "execution_count": 12,
   "metadata": {
    "collapsed": true
   },
   "outputs": [],
   "source": [
    "K.set_session(None)"
   ]
  },
  {
   "cell_type": "code",
   "execution_count": 44,
   "metadata": {},
   "outputs": [
    {
     "data": {
      "text/plain": [
       "<tensorflow.python.client.session.Session at 0x121cffa58>"
      ]
     },
     "execution_count": 44,
     "metadata": {},
     "output_type": "execute_result"
    }
   ],
   "source": [
    "K.get_session()"
   ]
  },
  {
   "cell_type": "code",
   "execution_count": 91,
   "metadata": {
    "collapsed": true
   },
   "outputs": [],
   "source": [
    "x = tf.Session()"
   ]
  },
  {
   "cell_type": "code",
   "execution_count": 92,
   "metadata": {},
   "outputs": [
    {
     "data": {
      "text/plain": [
       "<tensorflow.python.client.session.Session at 0x121ce4390>"
      ]
     },
     "execution_count": 92,
     "metadata": {},
     "output_type": "execute_result"
    }
   ],
   "source": [
    "x"
   ]
  },
  {
   "cell_type": "code",
   "execution_count": 93,
   "metadata": {
    "collapsed": true
   },
   "outputs": [],
   "source": [
    "K.set_session(x)"
   ]
  },
  {
   "cell_type": "code",
   "execution_count": 100,
   "metadata": {},
   "outputs": [
    {
     "data": {
      "text/plain": [
       "<tensorflow.python.client.session.Session at 0x121cb4ba8>"
      ]
     },
     "execution_count": 100,
     "metadata": {},
     "output_type": "execute_result"
    }
   ],
   "source": [
    "K.get_session()"
   ]
  },
  {
   "cell_type": "code",
   "execution_count": 4,
   "metadata": {
    "collapsed": true
   },
   "outputs": [],
   "source": [
    "sess = tf.Session()"
   ]
  },
  {
   "cell_type": "code",
   "execution_count": 5,
   "metadata": {
    "collapsed": true
   },
   "outputs": [],
   "source": [
    "g = Graph()"
   ]
  },
  {
   "cell_type": "code",
   "execution_count": null,
   "metadata": {},
   "outputs": [],
   "source": []
  },
  {
   "cell_type": "code",
   "execution_count": 107,
   "metadata": {
    "collapsed": true
   },
   "outputs": [],
   "source": [
    "test = pd.read_csv('./testing_data-2.csv')\n"
   ]
  },
  {
   "cell_type": "code",
   "execution_count": 109,
   "metadata": {},
   "outputs": [
    {
     "data": {
      "text/html": [
       "<div>\n",
       "<style>\n",
       "    .dataframe thead tr:only-child th {\n",
       "        text-align: right;\n",
       "    }\n",
       "\n",
       "    .dataframe thead th {\n",
       "        text-align: left;\n",
       "    }\n",
       "\n",
       "    .dataframe tbody tr th {\n",
       "        vertical-align: top;\n",
       "    }\n",
       "</style>\n",
       "<table border=\"1\" class=\"dataframe\">\n",
       "  <thead>\n",
       "    <tr style=\"text-align: right;\">\n",
       "      <th></th>\n",
       "      <th>Unnamed: 0</th>\n",
       "      <th>Unnamed: 1</th>\n",
       "      <th>pair_ID</th>\n",
       "      <th>sentence_A</th>\n",
       "      <th>sentence_B</th>\n",
       "      <th>entailment_label</th>\n",
       "      <th>relatedness_score</th>\n",
       "      <th>entailment_AB</th>\n",
       "      <th>entailment_BA</th>\n",
       "      <th>sentence_A_original</th>\n",
       "      <th>sentence_B_original</th>\n",
       "      <th>sentence_A_dataset</th>\n",
       "      <th>sentence_B_dataset</th>\n",
       "      <th>SemEval_set</th>\n",
       "    </tr>\n",
       "  </thead>\n",
       "  <tbody>\n",
       "    <tr>\n",
       "      <th>0</th>\n",
       "      <td>0</td>\n",
       "      <td>10.0</td>\n",
       "      <td>10</td>\n",
       "      <td>A brown dog is attacking another animal in fro...</td>\n",
       "      <td>A brown dog is attacking another animal in fro...</td>\n",
       "      <td>ENTAILMENT</td>\n",
       "      <td>4.9</td>\n",
       "      <td>A_entails_B</td>\n",
       "      <td>B_neutral_A</td>\n",
       "      <td>A brown dog is jumping up at another dog in fr...</td>\n",
       "      <td>A brown dog is jumping up at another dog in fr...</td>\n",
       "      <td>FLICKR</td>\n",
       "      <td>FLICKR</td>\n",
       "      <td>TEST</td>\n",
       "    </tr>\n",
       "    <tr>\n",
       "      <th>1</th>\n",
       "      <td>1</td>\n",
       "      <td>19.0</td>\n",
       "      <td>19</td>\n",
       "      <td>A person in a black jacket is doing tricks on ...</td>\n",
       "      <td>A man in a black jacket is doing tricks on a m...</td>\n",
       "      <td>ENTAILMENT</td>\n",
       "      <td>4.9</td>\n",
       "      <td>A_entails_B</td>\n",
       "      <td>B_entails_A</td>\n",
       "      <td>A person in a black jacket doing tricks on a m...</td>\n",
       "      <td>A person in a black jacket doing tricks on a m...</td>\n",
       "      <td>FLICKR</td>\n",
       "      <td>FLICKR</td>\n",
       "      <td>TEST</td>\n",
       "    </tr>\n",
       "    <tr>\n",
       "      <th>2</th>\n",
       "      <td>2</td>\n",
       "      <td>22.0</td>\n",
       "      <td>22</td>\n",
       "      <td>A skilled person is riding a bicycle on one wheel</td>\n",
       "      <td>A person is riding the bicycle on one wheel</td>\n",
       "      <td>ENTAILMENT</td>\n",
       "      <td>4.3</td>\n",
       "      <td>A_entails_B</td>\n",
       "      <td>B_neutral_A</td>\n",
       "      <td>A person rides their bicycle onto a rock and b...</td>\n",
       "      <td>A person rides their bicycle onto a rock and b...</td>\n",
       "      <td>FLICKR</td>\n",
       "      <td>FLICKR</td>\n",
       "      <td>TEST</td>\n",
       "    </tr>\n",
       "    <tr>\n",
       "      <th>3</th>\n",
       "      <td>3</td>\n",
       "      <td>32.0</td>\n",
       "      <td>32</td>\n",
       "      <td>The game of basketball consists of a ball bein...</td>\n",
       "      <td>A man with a jersey is dunking the ball at a b...</td>\n",
       "      <td>ENTAILMENT</td>\n",
       "      <td>4.2</td>\n",
       "      <td>A_entails_B</td>\n",
       "      <td>B_entails_A</td>\n",
       "      <td>A man with jersey 23 is dunking the ball at a ...</td>\n",
       "      <td>A man with jersey 23 is dunking the ball at a ...</td>\n",
       "      <td>FLICKR</td>\n",
       "      <td>FLICKR</td>\n",
       "      <td>TEST</td>\n",
       "    </tr>\n",
       "    <tr>\n",
       "      <th>4</th>\n",
       "      <td>4</td>\n",
       "      <td>33.0</td>\n",
       "      <td>33</td>\n",
       "      <td>A man who is playing dunks the basketball into...</td>\n",
       "      <td>The player is dunking the basketball into the ...</td>\n",
       "      <td>ENTAILMENT</td>\n",
       "      <td>4.7</td>\n",
       "      <td>A_entails_B</td>\n",
       "      <td>B_entails_A</td>\n",
       "      <td>Player number 23 dunks the basketball into the...</td>\n",
       "      <td>Player number 23 dunks the basketball into the...</td>\n",
       "      <td>FLICKR</td>\n",
       "      <td>FLICKR</td>\n",
       "      <td>TEST</td>\n",
       "    </tr>\n",
       "    <tr>\n",
       "      <th>5</th>\n",
       "      <td>5</td>\n",
       "      <td>41.0</td>\n",
       "      <td>41</td>\n",
       "      <td>Two people are kickboxing and spectators are w...</td>\n",
       "      <td>Two people are fighting and spectators are wat...</td>\n",
       "      <td>ENTAILMENT</td>\n",
       "      <td>4.4</td>\n",
       "      <td>A_entails_B</td>\n",
       "      <td>B_neutral_A</td>\n",
       "      <td>Two people kick boxing, with others spectating.</td>\n",
       "      <td>Two people kick boxing, with others spectating.</td>\n",
       "      <td>FLICKR</td>\n",
       "      <td>FLICKR</td>\n",
       "      <td>TEST</td>\n",
       "    </tr>\n",
       "    <tr>\n",
       "      <th>6</th>\n",
       "      <td>6</td>\n",
       "      <td>52.0</td>\n",
       "      <td>52</td>\n",
       "      <td>Kids in red shirts are playing in the leaves</td>\n",
       "      <td>Children in red shirts are playing in the leaves</td>\n",
       "      <td>ENTAILMENT</td>\n",
       "      <td>4.9</td>\n",
       "      <td>A_entails_B</td>\n",
       "      <td>B_entails_A</td>\n",
       "      <td>Children in red shirts play in the leaves.</td>\n",
       "      <td>Children in red shirts play in the leaves.</td>\n",
       "      <td>FLICKR</td>\n",
       "      <td>FLICKR</td>\n",
       "      <td>TEST</td>\n",
       "    </tr>\n",
       "    <tr>\n",
       "      <th>7</th>\n",
       "      <td>7</td>\n",
       "      <td>63.0</td>\n",
       "      <td>63</td>\n",
       "      <td>Two children are lying in the snow and are dra...</td>\n",
       "      <td>Two children are lying in the snow and are mak...</td>\n",
       "      <td>ENTAILMENT</td>\n",
       "      <td>4.4</td>\n",
       "      <td>A_entails_B</td>\n",
       "      <td>B_neutral_A</td>\n",
       "      <td>Two children lying in the snow making snow angels</td>\n",
       "      <td>Two children lying in the snow making snow angels</td>\n",
       "      <td>FLICKR</td>\n",
       "      <td>FLICKR</td>\n",
       "      <td>TEST</td>\n",
       "    </tr>\n",
       "    <tr>\n",
       "      <th>8</th>\n",
       "      <td>8</td>\n",
       "      <td>66.0</td>\n",
       "      <td>66</td>\n",
       "      <td>Two people wearing snowsuits are on the ground...</td>\n",
       "      <td>Two people in snowsuits are lying in the snow ...</td>\n",
       "      <td>ENTAILMENT</td>\n",
       "      <td>4.8</td>\n",
       "      <td>A_entails_B</td>\n",
       "      <td>B_entails_A</td>\n",
       "      <td>Two people in snowsuits laying in the snow mak...</td>\n",
       "      <td>Two people in snowsuits laying in the snow mak...</td>\n",
       "      <td>FLICKR</td>\n",
       "      <td>FLICKR</td>\n",
       "      <td>TEST</td>\n",
       "    </tr>\n",
       "    <tr>\n",
       "      <th>9</th>\n",
       "      <td>9</td>\n",
       "      <td>74.0</td>\n",
       "      <td>74</td>\n",
       "      <td>A little girl is looking at a woman in costume</td>\n",
       "      <td>A young girl is looking at a woman in costume</td>\n",
       "      <td>ENTAILMENT</td>\n",
       "      <td>4.7</td>\n",
       "      <td>A_entails_B</td>\n",
       "      <td>B_entails_A</td>\n",
       "      <td>The back of a woman in costume ; little girl l...</td>\n",
       "      <td>The back of a woman in costume ; little girl l...</td>\n",
       "      <td>FLICKR</td>\n",
       "      <td>FLICKR</td>\n",
       "      <td>TEST</td>\n",
       "    </tr>\n",
       "    <tr>\n",
       "      <th>10</th>\n",
       "      <td>10</td>\n",
       "      <td>13.0</td>\n",
       "      <td>13</td>\n",
       "      <td>Two dogs are wrestling and hugging</td>\n",
       "      <td>There is no dog wrestling and hugging</td>\n",
       "      <td>CONTRADICTION</td>\n",
       "      <td>3.3</td>\n",
       "      <td>A_contradicts_B</td>\n",
       "      <td>B_contradicts_A</td>\n",
       "      <td>Two dogs wrestle or hug.</td>\n",
       "      <td>Two dogs wrestle or hug.</td>\n",
       "      <td>FLICKR</td>\n",
       "      <td>FLICKR</td>\n",
       "      <td>TEST</td>\n",
       "    </tr>\n",
       "    <tr>\n",
       "      <th>11</th>\n",
       "      <td>11</td>\n",
       "      <td>20.0</td>\n",
       "      <td>20</td>\n",
       "      <td>There is no man in a black jacket doing tricks...</td>\n",
       "      <td>A person in a black jacket is doing tricks on ...</td>\n",
       "      <td>CONTRADICTION</td>\n",
       "      <td>3.6</td>\n",
       "      <td>A_contradicts_B</td>\n",
       "      <td>B_contradicts_A</td>\n",
       "      <td>A person in a black jacket doing tricks on a m...</td>\n",
       "      <td>A person in a black jacket doing tricks on a m...</td>\n",
       "      <td>FLICKR</td>\n",
       "      <td>FLICKR</td>\n",
       "      <td>TEST</td>\n",
       "    </tr>\n",
       "    <tr>\n",
       "      <th>12</th>\n",
       "      <td>12</td>\n",
       "      <td>23.0</td>\n",
       "      <td>23</td>\n",
       "      <td>Nobody is riding the bicycle on one wheel</td>\n",
       "      <td>A person is riding the bicycle on one wheel</td>\n",
       "      <td>CONTRADICTION</td>\n",
       "      <td>4.1</td>\n",
       "      <td>A_contradicts_B</td>\n",
       "      <td>B_contradicts_A</td>\n",
       "      <td>A person rides their bicycle onto a rock and b...</td>\n",
       "      <td>A person rides their bicycle onto a rock and b...</td>\n",
       "      <td>FLICKR</td>\n",
       "      <td>FLICKR</td>\n",
       "      <td>TEST</td>\n",
       "    </tr>\n",
       "    <tr>\n",
       "      <th>13</th>\n",
       "      <td>13</td>\n",
       "      <td>31.0</td>\n",
       "      <td>31</td>\n",
       "      <td>A man with a jersey is dunking the ball at a b...</td>\n",
       "      <td>There is no man dunking the ball at a basketba...</td>\n",
       "      <td>CONTRADICTION</td>\n",
       "      <td>4.0</td>\n",
       "      <td>A_contradicts_B</td>\n",
       "      <td>B_contradicts_A</td>\n",
       "      <td>A man with jersey 23 is dunking the ball at a ...</td>\n",
       "      <td>A man with jersey 23 is dunking the ball at a ...</td>\n",
       "      <td>FLICKR</td>\n",
       "      <td>FLICKR</td>\n",
       "      <td>TEST</td>\n",
       "    </tr>\n",
       "    <tr>\n",
       "      <th>14</th>\n",
       "      <td>14</td>\n",
       "      <td>34.0</td>\n",
       "      <td>34</td>\n",
       "      <td>The player is missing the basket and a crowd i...</td>\n",
       "      <td>The player is dunking the basketball into the ...</td>\n",
       "      <td>CONTRADICTION</td>\n",
       "      <td>3.9</td>\n",
       "      <td>A_contradicts_B</td>\n",
       "      <td>B_contradicts_A</td>\n",
       "      <td>Player number 23 dunks the basketball into the...</td>\n",
       "      <td>Player number 23 dunks the basketball into the...</td>\n",
       "      <td>FLICKR</td>\n",
       "      <td>FLICKR</td>\n",
       "      <td>TEST</td>\n",
       "    </tr>\n",
       "    <tr>\n",
       "      <th>15</th>\n",
       "      <td>15</td>\n",
       "      <td>38.0</td>\n",
       "      <td>38</td>\n",
       "      <td>There is no man dunking the ball at a basketba...</td>\n",
       "      <td>The player is dunking the basketball into the ...</td>\n",
       "      <td>CONTRADICTION</td>\n",
       "      <td>3.5</td>\n",
       "      <td>A_contradicts_B</td>\n",
       "      <td>B_contradicts_A</td>\n",
       "      <td>Player number 23 dunks the basketball into the...</td>\n",
       "      <td>A man with jersey 23 is dunking the ball at a ...</td>\n",
       "      <td>FLICKR</td>\n",
       "      <td>FLICKR</td>\n",
       "      <td>TEST</td>\n",
       "    </tr>\n",
       "    <tr>\n",
       "      <th>16</th>\n",
       "      <td>16</td>\n",
       "      <td>64.0</td>\n",
       "      <td>64</td>\n",
       "      <td>Two children are lying in the snow and are mak...</td>\n",
       "      <td>There is no child lying in the snow and making...</td>\n",
       "      <td>CONTRADICTION</td>\n",
       "      <td>3.8</td>\n",
       "      <td>A_contradicts_B</td>\n",
       "      <td>B_contradicts_A</td>\n",
       "      <td>Two children lying in the snow making snow angels</td>\n",
       "      <td>Two children lying in the snow making snow angels</td>\n",
       "      <td>FLICKR</td>\n",
       "      <td>FLICKR</td>\n",
       "      <td>TEST</td>\n",
       "    </tr>\n",
       "    <tr>\n",
       "      <th>17</th>\n",
       "      <td>17</td>\n",
       "      <td>67.0</td>\n",
       "      <td>67</td>\n",
       "      <td>Two people in snowsuits are lying in the snow ...</td>\n",
       "      <td>Nobody in snowsuits is lying in the snow and m...</td>\n",
       "      <td>CONTRADICTION</td>\n",
       "      <td>4.1</td>\n",
       "      <td>A_contradicts_B</td>\n",
       "      <td>B_contradicts_A</td>\n",
       "      <td>Two people in snowsuits laying in the snow mak...</td>\n",
       "      <td>Two people in snowsuits laying in the snow mak...</td>\n",
       "      <td>FLICKR</td>\n",
       "      <td>FLICKR</td>\n",
       "      <td>TEST</td>\n",
       "    </tr>\n",
       "    <tr>\n",
       "      <th>18</th>\n",
       "      <td>18</td>\n",
       "      <td>69.0</td>\n",
       "      <td>69</td>\n",
       "      <td>Two children are lying in the snow and are mak...</td>\n",
       "      <td>Nobody in snowsuits is lying in the snow and m...</td>\n",
       "      <td>CONTRADICTION</td>\n",
       "      <td>3.6</td>\n",
       "      <td>A_contradicts_B</td>\n",
       "      <td>B_contradicts_A</td>\n",
       "      <td>Two children lying in the snow making snow angels</td>\n",
       "      <td>Two people in snowsuits laying in the snow mak...</td>\n",
       "      <td>FLICKR</td>\n",
       "      <td>FLICKR</td>\n",
       "      <td>TEST</td>\n",
       "    </tr>\n",
       "    <tr>\n",
       "      <th>19</th>\n",
       "      <td>19</td>\n",
       "      <td>132.0</td>\n",
       "      <td>132</td>\n",
       "      <td>A person is wearing a hat and is sitting on th...</td>\n",
       "      <td>There is no person wearing a hat and sitting o...</td>\n",
       "      <td>CONTRADICTION</td>\n",
       "      <td>3.3</td>\n",
       "      <td>A_contradicts_B</td>\n",
       "      <td>B_contradicts_A</td>\n",
       "      <td>A person wearing a hat sits on the grass with ...</td>\n",
       "      <td>A person wearing a hat sits on the grass with ...</td>\n",
       "      <td>FLICKR</td>\n",
       "      <td>FLICKR</td>\n",
       "      <td>TEST</td>\n",
       "    </tr>\n",
       "  </tbody>\n",
       "</table>\n",
       "</div>"
      ],
      "text/plain": [
       "    Unnamed: 0  Unnamed: 1  pair_ID  \\\n",
       "0            0        10.0       10   \n",
       "1            1        19.0       19   \n",
       "2            2        22.0       22   \n",
       "3            3        32.0       32   \n",
       "4            4        33.0       33   \n",
       "5            5        41.0       41   \n",
       "6            6        52.0       52   \n",
       "7            7        63.0       63   \n",
       "8            8        66.0       66   \n",
       "9            9        74.0       74   \n",
       "10          10        13.0       13   \n",
       "11          11        20.0       20   \n",
       "12          12        23.0       23   \n",
       "13          13        31.0       31   \n",
       "14          14        34.0       34   \n",
       "15          15        38.0       38   \n",
       "16          16        64.0       64   \n",
       "17          17        67.0       67   \n",
       "18          18        69.0       69   \n",
       "19          19       132.0      132   \n",
       "\n",
       "                                           sentence_A  \\\n",
       "0   A brown dog is attacking another animal in fro...   \n",
       "1   A person in a black jacket is doing tricks on ...   \n",
       "2   A skilled person is riding a bicycle on one wheel   \n",
       "3   The game of basketball consists of a ball bein...   \n",
       "4   A man who is playing dunks the basketball into...   \n",
       "5   Two people are kickboxing and spectators are w...   \n",
       "6        Kids in red shirts are playing in the leaves   \n",
       "7   Two children are lying in the snow and are dra...   \n",
       "8   Two people wearing snowsuits are on the ground...   \n",
       "9      A little girl is looking at a woman in costume   \n",
       "10                 Two dogs are wrestling and hugging   \n",
       "11  There is no man in a black jacket doing tricks...   \n",
       "12          Nobody is riding the bicycle on one wheel   \n",
       "13  A man with a jersey is dunking the ball at a b...   \n",
       "14  The player is missing the basket and a crowd i...   \n",
       "15  There is no man dunking the ball at a basketba...   \n",
       "16  Two children are lying in the snow and are mak...   \n",
       "17  Two people in snowsuits are lying in the snow ...   \n",
       "18  Two children are lying in the snow and are mak...   \n",
       "19  A person is wearing a hat and is sitting on th...   \n",
       "\n",
       "                                           sentence_B entailment_label  \\\n",
       "0   A brown dog is attacking another animal in fro...       ENTAILMENT   \n",
       "1   A man in a black jacket is doing tricks on a m...       ENTAILMENT   \n",
       "2         A person is riding the bicycle on one wheel       ENTAILMENT   \n",
       "3   A man with a jersey is dunking the ball at a b...       ENTAILMENT   \n",
       "4   The player is dunking the basketball into the ...       ENTAILMENT   \n",
       "5   Two people are fighting and spectators are wat...       ENTAILMENT   \n",
       "6    Children in red shirts are playing in the leaves       ENTAILMENT   \n",
       "7   Two children are lying in the snow and are mak...       ENTAILMENT   \n",
       "8   Two people in snowsuits are lying in the snow ...       ENTAILMENT   \n",
       "9       A young girl is looking at a woman in costume       ENTAILMENT   \n",
       "10              There is no dog wrestling and hugging    CONTRADICTION   \n",
       "11  A person in a black jacket is doing tricks on ...    CONTRADICTION   \n",
       "12        A person is riding the bicycle on one wheel    CONTRADICTION   \n",
       "13  There is no man dunking the ball at a basketba...    CONTRADICTION   \n",
       "14  The player is dunking the basketball into the ...    CONTRADICTION   \n",
       "15  The player is dunking the basketball into the ...    CONTRADICTION   \n",
       "16  There is no child lying in the snow and making...    CONTRADICTION   \n",
       "17  Nobody in snowsuits is lying in the snow and m...    CONTRADICTION   \n",
       "18  Nobody in snowsuits is lying in the snow and m...    CONTRADICTION   \n",
       "19  There is no person wearing a hat and sitting o...    CONTRADICTION   \n",
       "\n",
       "    relatedness_score    entailment_AB    entailment_BA  \\\n",
       "0                 4.9      A_entails_B      B_neutral_A   \n",
       "1                 4.9      A_entails_B      B_entails_A   \n",
       "2                 4.3      A_entails_B      B_neutral_A   \n",
       "3                 4.2      A_entails_B      B_entails_A   \n",
       "4                 4.7      A_entails_B      B_entails_A   \n",
       "5                 4.4      A_entails_B      B_neutral_A   \n",
       "6                 4.9      A_entails_B      B_entails_A   \n",
       "7                 4.4      A_entails_B      B_neutral_A   \n",
       "8                 4.8      A_entails_B      B_entails_A   \n",
       "9                 4.7      A_entails_B      B_entails_A   \n",
       "10                3.3  A_contradicts_B  B_contradicts_A   \n",
       "11                3.6  A_contradicts_B  B_contradicts_A   \n",
       "12                4.1  A_contradicts_B  B_contradicts_A   \n",
       "13                4.0  A_contradicts_B  B_contradicts_A   \n",
       "14                3.9  A_contradicts_B  B_contradicts_A   \n",
       "15                3.5  A_contradicts_B  B_contradicts_A   \n",
       "16                3.8  A_contradicts_B  B_contradicts_A   \n",
       "17                4.1  A_contradicts_B  B_contradicts_A   \n",
       "18                3.6  A_contradicts_B  B_contradicts_A   \n",
       "19                3.3  A_contradicts_B  B_contradicts_A   \n",
       "\n",
       "                                  sentence_A_original  \\\n",
       "0   A brown dog is jumping up at another dog in fr...   \n",
       "1   A person in a black jacket doing tricks on a m...   \n",
       "2   A person rides their bicycle onto a rock and b...   \n",
       "3   A man with jersey 23 is dunking the ball at a ...   \n",
       "4   Player number 23 dunks the basketball into the...   \n",
       "5     Two people kick boxing, with others spectating.   \n",
       "6          Children in red shirts play in the leaves.   \n",
       "7   Two children lying in the snow making snow angels   \n",
       "8   Two people in snowsuits laying in the snow mak...   \n",
       "9   The back of a woman in costume ; little girl l...   \n",
       "10                           Two dogs wrestle or hug.   \n",
       "11  A person in a black jacket doing tricks on a m...   \n",
       "12  A person rides their bicycle onto a rock and b...   \n",
       "13  A man with jersey 23 is dunking the ball at a ...   \n",
       "14  Player number 23 dunks the basketball into the...   \n",
       "15  Player number 23 dunks the basketball into the...   \n",
       "16  Two children lying in the snow making snow angels   \n",
       "17  Two people in snowsuits laying in the snow mak...   \n",
       "18  Two children lying in the snow making snow angels   \n",
       "19  A person wearing a hat sits on the grass with ...   \n",
       "\n",
       "                                  sentence_B_original sentence_A_dataset  \\\n",
       "0   A brown dog is jumping up at another dog in fr...             FLICKR   \n",
       "1   A person in a black jacket doing tricks on a m...             FLICKR   \n",
       "2   A person rides their bicycle onto a rock and b...             FLICKR   \n",
       "3   A man with jersey 23 is dunking the ball at a ...             FLICKR   \n",
       "4   Player number 23 dunks the basketball into the...             FLICKR   \n",
       "5     Two people kick boxing, with others spectating.             FLICKR   \n",
       "6          Children in red shirts play in the leaves.             FLICKR   \n",
       "7   Two children lying in the snow making snow angels             FLICKR   \n",
       "8   Two people in snowsuits laying in the snow mak...             FLICKR   \n",
       "9   The back of a woman in costume ; little girl l...             FLICKR   \n",
       "10                           Two dogs wrestle or hug.             FLICKR   \n",
       "11  A person in a black jacket doing tricks on a m...             FLICKR   \n",
       "12  A person rides their bicycle onto a rock and b...             FLICKR   \n",
       "13  A man with jersey 23 is dunking the ball at a ...             FLICKR   \n",
       "14  Player number 23 dunks the basketball into the...             FLICKR   \n",
       "15  A man with jersey 23 is dunking the ball at a ...             FLICKR   \n",
       "16  Two children lying in the snow making snow angels             FLICKR   \n",
       "17  Two people in snowsuits laying in the snow mak...             FLICKR   \n",
       "18  Two people in snowsuits laying in the snow mak...             FLICKR   \n",
       "19  A person wearing a hat sits on the grass with ...             FLICKR   \n",
       "\n",
       "   sentence_B_dataset SemEval_set  \n",
       "0              FLICKR        TEST  \n",
       "1              FLICKR        TEST  \n",
       "2              FLICKR        TEST  \n",
       "3              FLICKR        TEST  \n",
       "4              FLICKR        TEST  \n",
       "5              FLICKR        TEST  \n",
       "6              FLICKR        TEST  \n",
       "7              FLICKR        TEST  \n",
       "8              FLICKR        TEST  \n",
       "9              FLICKR        TEST  \n",
       "10             FLICKR        TEST  \n",
       "11             FLICKR        TEST  \n",
       "12             FLICKR        TEST  \n",
       "13             FLICKR        TEST  \n",
       "14             FLICKR        TEST  \n",
       "15             FLICKR        TEST  \n",
       "16             FLICKR        TEST  \n",
       "17             FLICKR        TEST  \n",
       "18             FLICKR        TEST  \n",
       "19             FLICKR        TEST  "
      ]
     },
     "execution_count": 109,
     "metadata": {},
     "output_type": "execute_result"
    }
   ],
   "source": [
    "test"
   ]
  },
  {
   "cell_type": "code",
   "execution_count": 121,
   "metadata": {},
   "outputs": [],
   "source": [
    "A = test[\"sentence_A\"]\n",
    "B = test[\"sentence_B\"]"
   ]
  },
  {
   "cell_type": "code",
   "execution_count": 125,
   "metadata": {},
   "outputs": [],
   "source": [
    "obj = MALSTM(malstm, malstm_weights, vocab)"
   ]
  },
  {
   "cell_type": "code",
   "execution_count": 134,
   "metadata": {
    "collapsed": true
   },
   "outputs": [],
   "source": [
    "e = Entailment(contra, contra_weights)"
   ]
  },
  {
   "cell_type": "code",
   "execution_count": 97,
   "metadata": {
    "collapsed": true
   },
   "outputs": [],
   "source": [
    "a = obj.output(A[0])\n",
    "b = obj.output(B[0])"
   ]
  },
  {
   "cell_type": "code",
   "execution_count": 139,
   "metadata": {},
   "outputs": [],
   "source": [
    "result_A = obj.output_all(A)"
   ]
  },
  {
   "cell_type": "code",
   "execution_count": 140,
   "metadata": {
    "collapsed": true
   },
   "outputs": [],
   "source": [
    "result_B = obj.output_all(B)"
   ]
  },
  {
   "cell_type": "code",
   "execution_count": 141,
   "metadata": {},
   "outputs": [],
   "source": [
    "res = e.predict_all(result_A, result_B)"
   ]
  },
  {
   "cell_type": "code",
   "execution_count": 142,
   "metadata": {},
   "outputs": [
    {
     "data": {
      "text/plain": [
       "[1, 1, 1, 2, 2, 0, 1, 2, 1, 1, 2, 2, 2, 1, 2, 2, 2, 1, 2, 1]"
      ]
     },
     "execution_count": 142,
     "metadata": {},
     "output_type": "execute_result"
    }
   ],
   "source": [
    "res"
   ]
  },
  {
   "cell_type": "code",
   "execution_count": 100,
   "metadata": {},
   "outputs": [
    {
     "data": {
      "text/plain": [
       "'A brown dog is attacking another animal in front of the tall man in pants'"
      ]
     },
     "execution_count": 100,
     "metadata": {},
     "output_type": "execute_result"
    }
   ],
   "source": [
    "A[0]"
   ]
  },
  {
   "cell_type": "code",
   "execution_count": null,
   "metadata": {
    "collapsed": true
   },
   "outputs": [],
   "source": []
  }
 ],
 "metadata": {
  "kernelspec": {
   "display_name": "Python 3",
   "language": "python",
   "name": "python3"
  },
  "language_info": {
   "codemirror_mode": {
    "name": "ipython",
    "version": 3
   },
   "file_extension": ".py",
   "mimetype": "text/x-python",
   "name": "python",
   "nbconvert_exporter": "python",
   "pygments_lexer": "ipython3",
   "version": "3.6.2"
  }
 },
 "nbformat": 4,
 "nbformat_minor": 2
}
